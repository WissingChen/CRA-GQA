{
 "cells": [
  {
   "cell_type": "code",
   "execution_count": 10,
   "metadata": {},
   "outputs": [],
   "source": [
    "import json\n",
    "import os"
   ]
  },
  {
   "cell_type": "code",
   "execution_count": 11,
   "metadata": {},
   "outputs": [],
   "source": [
    "with open(\"data/traffic/causal_feature/processed_qa.json\", \"r\") as f:\n",
    "    graph_data = json.load(f)"
   ]
  },
  {
   "cell_type": "code",
   "execution_count": null,
   "metadata": {},
   "outputs": [],
   "source": [
    "# Count all noun concepts\n",
    "# print(graph_data[0]['processed_question']['tokens'])\n",
    "noun_vocab = []\n",
    "for _graph in graph_data:\n",
    "    tokens = _graph['processed_question']['tokens']\n",
    "    for token in tokens:\n",
    "        if token[\"pos\"] in [\"NOUN\", \"VERB\"]:\n",
    "            if token['text'] not in noun_vocab:\n",
    "                noun_vocab.append(token['text'])\n",
    "    tokens = _graph['processed_answer']['tokens']\n",
    "    for token in tokens:\n",
    "        if token[\"pos\"] in [\"NOUN\", \"VERB\"]:\n",
    "            if token['text'] not in noun_vocab:\n",
    "                noun_vocab.append(token['text'])"
   ]
  },
  {
   "cell_type": "code",
   "execution_count": 13,
   "metadata": {},
   "outputs": [
    {
     "data": {
      "text/plain": [
       "450"
      ]
     },
     "execution_count": 13,
     "metadata": {},
     "output_type": "execute_result"
    }
   ],
   "source": [
    "len(noun_vocab)"
   ]
  },
  {
   "cell_type": "code",
   "execution_count": null,
   "metadata": {},
   "outputs": [
    {
     "name": "stderr",
     "output_type": "stream",
     "text": [
      "/data2/chenweixing/anaconda3/envs/scannet/lib/python3.11/site-packages/tqdm/auto.py:21: TqdmWarning: IProgress not found. Please update jupyter and ipywidgets. See https://ipywidgets.readthedocs.io/en/stable/user_install.html\n",
      "  from .autonotebook import tqdm as notebook_tqdm\n",
      "/data2/chenweixing/anaconda3/envs/scannet/lib/python3.11/site-packages/torch/_utils.py:831: UserWarning: TypedStorage is deprecated. It will be removed in the future and UntypedStorage will be the only storage class. This should only matter to you if you are using storages directly.  To access UntypedStorage directly, use tensor.untyped_storage() instead of tensor.storage()\n",
      "  return self.fget.__get__(instance, owner)()\n"
     ]
    }
   ],
   "source": [
    "from transformers import CLIPProcessor, CLIPModel\n",
    "import torch\n",
    "\n",
    "model_name = \"CLIP/clip-vit-large-patch14\"\n",
    "model = CLIPModel.from_pretrained(model_name)\n",
    "processor = CLIPProcessor.from_pretrained(model_name)"
   ]
  },
  {
   "cell_type": "code",
   "execution_count": null,
   "metadata": {},
   "outputs": [
    {
     "name": "stdout",
     "output_type": "stream",
     "text": [
      "torch.Size([450, 768])\n"
     ]
    }
   ],
   "source": [
    "inputs = processor(text=noun_vocab, return_tensors=\"pt\", padding=True)\n",
    "with torch.no_grad():\n",
    "    text_features = model.get_text_features(**inputs)\n",
    "\n",
    "print(text_features.size())"
   ]
  },
  {
   "cell_type": "code",
   "execution_count": null,
   "metadata": {},
   "outputs": [],
   "source": [
    "import numpy as np\n",
    "from sklearn.cluster import KMeans, MiniBatchKMeans\n",
    "\n",
    "def kmean(x, k=256):\n",
    "    x = x.reshape([-1, 768])\n",
    "    print(\"feature sample:\", x.shape[0])\n",
    "    kmeans = MiniBatchKMeans(n_clusters=k, random_state=43, verbose=True).fit(x)\n",
    "    print(\"clustering done\")\n",
    "    cluster_centers = kmeans.cluster_centers_\n",
    "    print(\"Get centers\")\n",
    "    labels = kmeans.labels_\n",
    "\n",
    "    cluster_features = [x[labels == i] for i in range(k)]\n",
    "    cluster_means = [np.mean(cluster, axis=0) for cluster in cluster_features]\n",
    "    print(\"Get mean\")\n",
    "    return cluster_centers, cluster_means"
   ]
  },
  {
   "cell_type": "code",
   "execution_count": 15,
   "metadata": {},
   "outputs": [
    {
     "name": "stdout",
     "output_type": "stream",
     "text": [
      "feature sample: 450\n",
      "Init 1/3 with method k-means++\n"
     ]
    },
    {
     "name": "stderr",
     "output_type": "stream",
     "text": [
      "/data2/chenweixing/anaconda3/envs/scannet/lib/python3.11/site-packages/sklearn/cluster/_kmeans.py:1930: FutureWarning: The default value of `n_init` will change from 3 to 'auto' in 1.4. Set the value of `n_init` explicitly to suppress the warning\n",
      "  super()._check_params_vs_input(X, default_n_init=3)\n"
     ]
    },
    {
     "name": "stdout",
     "output_type": "stream",
     "text": [
      "Inertia for init 1/3: 36428.82421875\n",
      "Init 2/3 with method k-means++\n",
      "Inertia for init 2/3: 37214.109375\n",
      "Init 3/3 with method k-means++\n",
      "Inertia for init 3/3: 37497.44921875\n",
      "[MiniBatchKMeans] Reassigning 2 cluster centers.\n",
      "Minibatch step 1/100: mean batch inertia: 87.54566840277778\n",
      "Minibatch step 2/100: mean batch inertia: 54.40743489583333, ewa inertia: 54.40743489583333\n",
      "Minibatch step 3/100: mean batch inertia: 53.46103732638889, ewa inertia: 53.46103732638889\n",
      "Minibatch step 4/100: mean batch inertia: 51.7063671875, ewa inertia: 51.7063671875\n",
      "Minibatch step 5/100: mean batch inertia: 51.54075954861111, ewa inertia: 51.54075954861111\n",
      "Minibatch step 6/100: mean batch inertia: 51.96254774305555, ewa inertia: 51.96254774305555\n",
      "Minibatch step 7/100: mean batch inertia: 50.982721354166664, ewa inertia: 50.982721354166664\n",
      "Minibatch step 8/100: mean batch inertia: 50.827161458333336, ewa inertia: 50.827161458333336\n",
      "Minibatch step 9/100: mean batch inertia: 52.48167534722222, ewa inertia: 52.48167534722222\n",
      "Minibatch step 10/100: mean batch inertia: 51.93745659722222, ewa inertia: 51.93745659722222\n",
      "Minibatch step 11/100: mean batch inertia: 50.27226996527778, ewa inertia: 50.27226996527778\n",
      "Minibatch step 12/100: mean batch inertia: 51.54674045138889, ewa inertia: 51.54674045138889\n",
      "Minibatch step 13/100: mean batch inertia: 49.66334201388889, ewa inertia: 49.66334201388889\n",
      "Minibatch step 14/100: mean batch inertia: 51.69494791666666, ewa inertia: 51.69494791666666\n",
      "Minibatch step 15/100: mean batch inertia: 51.79130642361111, ewa inertia: 51.79130642361111\n",
      "Minibatch step 16/100: mean batch inertia: 51.272465277777776, ewa inertia: 51.272465277777776\n",
      "Minibatch step 17/100: mean batch inertia: 51.85764322916667, ewa inertia: 51.85764322916667\n",
      "Minibatch step 18/100: mean batch inertia: 50.86213107638889, ewa inertia: 50.86213107638889\n",
      "Minibatch step 19/100: mean batch inertia: 49.84415364583333, ewa inertia: 49.84415364583333\n",
      "Minibatch step 20/100: mean batch inertia: 51.14212673611111, ewa inertia: 51.14212673611111\n",
      "Minibatch step 21/100: mean batch inertia: 50.835199652777774, ewa inertia: 50.835199652777774\n",
      "Minibatch step 22/100: mean batch inertia: 50.57145833333333, ewa inertia: 50.57145833333333\n",
      "Minibatch step 23/100: mean batch inertia: 51.37106336805556, ewa inertia: 51.37106336805556\n",
      "Converged (lack of improvement in inertia) at step 23/100\n",
      "clustering done\n",
      "Get centers\n",
      "Get mean\n"
     ]
    }
   ],
   "source": [
    "text_features = text_features.numpy()\n",
    "centers, means = kmean(text_features, k=64)"
   ]
  },
  {
   "cell_type": "code",
   "execution_count": 16,
   "metadata": {},
   "outputs": [],
   "source": [
    "# text_features = torch.from_numpy(text_features)\n",
    "# centers = torch.from_numpy(centers)\n",
    "means = torch.tensor(means)\n",
    "\n",
    "torch.save({\"original\": text_features, \"k_center\": centers, \"k_means\": means}, \"qa_noun_vocab.npy\")"
   ]
  },
  {
   "cell_type": "code",
   "execution_count": null,
   "metadata": {},
   "outputs": [],
   "source": []
  }
 ],
 "metadata": {
  "kernelspec": {
   "display_name": "scannet",
   "language": "python",
   "name": "python3"
  },
  "language_info": {
   "codemirror_mode": {
    "name": "ipython",
    "version": 3
   },
   "file_extension": ".py",
   "mimetype": "text/x-python",
   "name": "python",
   "nbconvert_exporter": "python",
   "pygments_lexer": "ipython3",
   "version": "3.11.6"
  }
 },
 "nbformat": 4,
 "nbformat_minor": 2
}
