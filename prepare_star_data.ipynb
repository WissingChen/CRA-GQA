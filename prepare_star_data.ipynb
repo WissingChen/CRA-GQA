{
 "cells": [
  {
   "cell_type": "code",
   "execution_count": 1,
   "metadata": {},
   "outputs": [],
   "source": [
    "import json\n",
    "import os\n",
    "import pandas as pd\n",
    "import cv2"
   ]
  },
  {
   "cell_type": "markdown",
   "metadata": {},
   "source": [
    "### csv"
   ]
  },
  {
   "cell_type": "code",
   "execution_count": null,
   "metadata": {},
   "outputs": [],
   "source": [
    "with open(\"data/star/STAR_test.json\") as f:\n",
    "    data = f.readlines()[0]\n",
    "    data = json.loads(data)"
   ]
  },
  {
   "cell_type": "code",
   "execution_count": 4,
   "metadata": {},
   "outputs": [
    {
     "data": {
      "text/plain": [
       "{'question_id': 'Interaction_T1_1',\n",
       " 'question': 'Which object was taken by the person?',\n",
       " 'video_id': 'YSKX3',\n",
       " 'start': 11.8,\n",
       " 'end': 17.3,\n",
       " 'choices': [{'choice_id': 0, 'choice': 'The shoe.'},\n",
       "  {'choice_id': 1, 'choice': 'The cup/glass/bottle.'},\n",
       "  {'choice_id': 2, 'choice': 'The pillow.'},\n",
       "  {'choice_id': 3, 'choice': 'The dish.'}]}"
      ]
     },
     "execution_count": 4,
     "metadata": {},
     "output_type": "execute_result"
    }
   ],
   "source": [
    "data[1]\n",
    "# video_id,,,,question,answer,question_id,,choices\n",
    "# video_id,frame_count,width,height,question,answer,qid,type,a0,a1,a2,a3,a4"
   ]
  },
  {
   "cell_type": "code",
   "execution_count": null,
   "metadata": {},
   "outputs": [],
   "source": [
    "def get_video_properties(video_path):\n",
    "    video = cv2.VideoCapture(video_path)\n",
    "    \n",
    "    if not video.isOpened():\n",
    "        print(\"Error: Could not open video.\")\n",
    "        return\n",
    "    \n",
    "    total_frames = int(video.get(cv2.CAP_PROP_FRAME_COUNT))\n",
    "    \n",
    "    width = int(video.get(cv2.CAP_PROP_FRAME_WIDTH))\n",
    "    height = int(video.get(cv2.CAP_PROP_FRAME_HEIGHT))\n",
    "    \n",
    "    video.release()\n",
    "    \n",
    "    return total_frames, width, height"
   ]
  },
  {
   "cell_type": "code",
   "execution_count": null,
   "metadata": {},
   "outputs": [],
   "source": [
    "def get_info(sample):\n",
    "    _video_id = sample[\"video_id\"]\n",
    "    _qid = sample[\"question_id\"]\n",
    "    _type = _qid.split(\"_\")[1]\n",
    "    _question = sample[\"question\"]\n",
    "    _answer = sample[\"answer\"] if \"answer\" in sample.keys() else \"\"\n",
    "    _choices = sample[\"choices\"]\n",
    "    _a0 = _choices[0][\"choice\"]\n",
    "    _a1 = _choices[1][\"choice\"]\n",
    "    _a2 = _choices[2][\"choice\"]\n",
    "    _a3 = _choices[3][\"choice\"]\n",
    "    video_dir = os.path.join(\"data/star/Charades_v1_480\", f\"{_video_id}.mp4\")\n",
    "    _frame_count, _width, _height = get_video_properties(video_dir)\n",
    "    return _video_id, _frame_count, _width, _height, _question, _answer, _qid, _type, _a0, _a1, _a2, _a3"
   ]
  },
  {
   "cell_type": "code",
   "execution_count": 11,
   "metadata": {},
   "outputs": [],
   "source": [
    "df = pd.DataFrame(columns=[[\"video_id\",\"frame_count\",\"width\",\"height\",\"question\",\"answer\",\"qid\",\"type\",\"a0\",\"a1\",\"a2\",\"a3\"]])\n",
    "for i in range(len(data)):\n",
    "    _sample = data[i]\n",
    "    _info = get_info(_sample)\n",
    "    df.loc[i] = _info"
   ]
  },
  {
   "cell_type": "code",
   "execution_count": null,
   "metadata": {},
   "outputs": [],
   "source": [
    "df.to_csv(\"data/star/test.csv\")"
   ]
  },
  {
   "cell_type": "markdown",
   "metadata": {},
   "source": [
    "# frame2time and gsub"
   ]
  },
  {
   "cell_type": "code",
   "execution_count": null,
   "metadata": {},
   "outputs": [],
   "source": [
    "import pandas as pd\n",
    "video_dirs = \"data/star/Charades_v1_480\"\n",
    "csv_file = \"data/star/test.csv\"\n",
    "segments_file = \"data/star/Video_Segments.csv\"\n",
    "df = pd.read_csv(csv_file)\n",
    "segments = pd.read_csv(segments_file)"
   ]
  },
  {
   "cell_type": "code",
   "execution_count": 14,
   "metadata": {},
   "outputs": [
    {
     "data": {
      "text/plain": [
       "Unnamed: 0                                            0\n",
       "video_id                                          YSKX3\n",
       "frame_count                                         278\n",
       "width                                               270\n",
       "height                                              480\n",
       "question       Which object was put down by the person?\n",
       "answer                                              NaN\n",
       "qid                                    Interaction_T1_0\n",
       "type                                                 T1\n",
       "a0                                            The food.\n",
       "a1                                          The laptop.\n",
       "a2                                            The book.\n",
       "a3                                          The pillow.\n",
       "Name: 0, dtype: object"
      ]
     },
     "execution_count": 14,
     "metadata": {},
     "output_type": "execute_result"
    }
   ],
   "source": [
    "df.loc[0]"
   ]
  },
  {
   "cell_type": "code",
   "execution_count": 15,
   "metadata": {},
   "outputs": [
    {
     "data": {
      "text/html": [
       "<div>\n",
       "<style scoped>\n",
       "    .dataframe tbody tr th:only-of-type {\n",
       "        vertical-align: middle;\n",
       "    }\n",
       "\n",
       "    .dataframe tbody tr th {\n",
       "        vertical-align: top;\n",
       "    }\n",
       "\n",
       "    .dataframe thead th {\n",
       "        text-align: right;\n",
       "    }\n",
       "</style>\n",
       "<table border=\"1\" class=\"dataframe\">\n",
       "  <thead>\n",
       "    <tr style=\"text-align: right;\">\n",
       "      <th></th>\n",
       "      <th>question_id</th>\n",
       "      <th>video_id</th>\n",
       "      <th>start</th>\n",
       "      <th>end</th>\n",
       "    </tr>\n",
       "  </thead>\n",
       "  <tbody>\n",
       "    <tr>\n",
       "      <th>12</th>\n",
       "      <td>Interaction_T1_13</td>\n",
       "      <td>6H78U</td>\n",
       "      <td>11.1</td>\n",
       "      <td>19.6</td>\n",
       "    </tr>\n",
       "  </tbody>\n",
       "</table>\n",
       "</div>"
      ],
      "text/plain": [
       "          question_id video_id  start   end\n",
       "12  Interaction_T1_13    6H78U   11.1  19.6"
      ]
     },
     "execution_count": 15,
     "metadata": {},
     "output_type": "execute_result"
    }
   ],
   "source": [
    "segments[segments[\"question_id\"] == \"Interaction_T1_13\"]"
   ]
  },
  {
   "cell_type": "code",
   "execution_count": 17,
   "metadata": {},
   "outputs": [],
   "source": [
    "# 获得duration， location: dict，fps\n",
    "gsub = {}\n",
    "\n",
    "for i in range(len(df)):\n",
    "    sample = df.loc[i]\n",
    "    if sample[\"video_id\"] in gsub.keys():\n",
    "        # new loc\n",
    "        _segments = segments[segments[\"question_id\"] == sample[\"qid\"]]\n",
    "        gsub[sample[\"video_id\"]][\"location\"][sample[\"qid\"]] = [[_segments[\"start\"].values[0], _segments[\"end\"].values[0]]]\n",
    "    else:\n",
    "        _segments = segments[segments[\"question_id\"] == sample[\"qid\"]]\n",
    "        video_path = f\"{video_dirs}/{sample['video_id']}.mp4\"\n",
    "        _fps, _duration = get_video_properties_fps(video_path)\n",
    "        gsub[sample[\"video_id\"]] = {\"duration\": _duration, \"location\": {sample[\"qid\"]: [[_segments[\"start\"].values[0], _segments[\"end\"].values[0]]]}, \"fps\": _fps}"
   ]
  },
  {
   "cell_type": "code",
   "execution_count": null,
   "metadata": {},
   "outputs": [],
   "source": [
    "with open('data/star/gsub_test.json', 'w') as json_file:\n",
    "    json.dump(gsub, json_file)"
   ]
  },
  {
   "cell_type": "code",
   "execution_count": 19,
   "metadata": {},
   "outputs": [],
   "source": [
    "import numpy as np\n",
    "def sample_clips(total_frames, num_clips, num_frames_per_clip):\n",
    "    clips = []\n",
    "    frames = list(range(total_frames)) #[str(f+1).zfill(6) for f in range(total_frames)]\n",
    "    for i in np.linspace(0, total_frames, num_clips + 2, dtype=np.int32)[1: num_clips + 1]:\n",
    "        clip_start = int(i) - int(num_frames_per_clip / 2)\n",
    "        clip_end = int(i) + int(num_frames_per_clip / 2)\n",
    "        clip_start = 0 if clip_start < 0 else clip_start\n",
    "        clip_end = total_frames if clip_end > total_frames else clip_end\n",
    "        clip = frames[clip_start:clip_end] \n",
    "        if clip_start == 0 and len(clip) < num_frames_per_clip:\n",
    "            shortage = num_frames_per_clip - (clip_end - clip_start)\n",
    "            added_fids = []\n",
    "            for _ in range(shortage):\n",
    "                added_fids.append(frames[clip_start])\n",
    "            if len(added_fids) > 0:\n",
    "                clip = added_fids + clip\n",
    "        if clip_end == total_frames and len(clip) < num_frames_per_clip:\n",
    "            shortage = num_frames_per_clip - (clip_end - clip_start)\n",
    "            added_fids = []\n",
    "            for _ in range(shortage):\n",
    "                added_fids.append(frames[clip_end-1])\n",
    "            if len(added_fids) > 0:\n",
    "                clip += added_fids\n",
    "        cid = clip[len(clip)//2] #[::4] use the center frame\n",
    "        clips.append(cid)\n",
    "    # clips = clips[::2]\n",
    "    return clips"
   ]
  },
  {
   "cell_type": "code",
   "execution_count": null,
   "metadata": {},
   "outputs": [],
   "source": [
    "def get_frames_by_timestamps(video_path, timestamps):\n",
    "    video = cv2.VideoCapture(video_path)\n",
    "    \n",
    "    if not video.isOpened():\n",
    "        print(\"Error: Could not open video.\")\n",
    "        return []\n",
    "    \n",
    "    fps = video.get(cv2.CAP_PROP_FPS)\n",
    "    \n",
    "    frames = []\n",
    "    for timestamp in timestamps:\n",
    "        frame_index = int(timestamp * fps)\n",
    "        \n",
    "        video.set(cv2.CAP_PROP_POS_FRAMES, frame_index)\n",
    "        \n",
    "        ret, frame = video.read()\n",
    "        if ret:\n",
    "            frames.append(frame)\n",
    "        else:\n",
    "            print(f\"Warning: Could not read frame at timestamp {timestamp}s.\")\n",
    "    \n",
    "    video.release()\n",
    "    \n",
    "    return frames"
   ]
  },
  {
   "cell_type": "code",
   "execution_count": 21,
   "metadata": {},
   "outputs": [],
   "source": [
    "def save_frames_as_images(frames, output_prefix='frame'):\n",
    "    if os.path.exists(output_prefix) is False:\n",
    "        os.mkdir(output_prefix)\n",
    "\n",
    "    for i, frame in enumerate(frames):\n",
    "        filename = f\"{output_prefix}/{i}.png\"\n",
    "        cv2.imwrite(filename, frame)"
   ]
  },
  {
   "cell_type": "code",
   "execution_count": null,
   "metadata": {},
   "outputs": [
    {
     "name": "stdout",
     "output_type": "stream",
     "text": [
      " 955  ---  955"
     ]
    }
   ],
   "source": [
    "frame2time = {} \n",
    "\n",
    "for vid in gsub.keys():\n",
    "    _frame_count = df[df[\"video_id\"] == vid][\"frame_count\"].values[0]\n",
    "    _duration = gsub[vid][\"duration\"]\n",
    "    _fps = gsub[vid][\"fps\"]\n",
    "    _clips = sample_clips(_frame_count, 32, 4)\n",
    "    _time_clips = [round(x / _fps, 2) for x in _clips]\n",
    "    v_path = f\"{video_dirs}/{vid}.mp4\"\n",
    "    _frames = get_frames_by_timestamps(v_path, _time_clips)\n",
    "    save_frames_as_images(_frames, f\"data/star/frames/{vid}\")\n",
    "    frame2time[vid] = _time_clips\n",
    "    print(\"\\r\",len(frame2time), \" --- \",len(gsub), end='')"
   ]
  },
  {
   "cell_type": "code",
   "execution_count": null,
   "metadata": {},
   "outputs": [],
   "source": [
    "with open('star/frame2time_test.json', 'w') as json_file:\n",
    "    json.dump(frame2time, json_file)"
   ]
  },
  {
   "cell_type": "markdown",
   "metadata": {},
   "source": []
  },
  {
   "cell_type": "code",
   "execution_count": null,
   "metadata": {},
   "outputs": [],
   "source": []
  }
 ],
 "metadata": {
  "kernelspec": {
   "display_name": "scannet",
   "language": "python",
   "name": "python3"
  },
  "language_info": {
   "codemirror_mode": {
    "name": "ipython",
    "version": 3
   },
   "file_extension": ".py",
   "mimetype": "text/x-python",
   "name": "python",
   "nbconvert_exporter": "python",
   "pygments_lexer": "ipython3",
   "version": "3.11.6"
  }
 },
 "nbformat": 4,
 "nbformat_minor": 2
}
